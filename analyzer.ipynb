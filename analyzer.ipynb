{
 "cells": [
  {
   "cell_type": "code",
   "execution_count": 14,
   "metadata": {},
   "outputs": [],
   "source": [
    "# !pip install analyzere"
   ]
  },
  {
   "cell_type": "code",
   "execution_count": 89,
   "metadata": {},
   "outputs": [],
   "source": [
    "import analyzere as an\n",
    "import pandas as pd\n",
    "import re"
   ]
  },
  {
   "cell_type": "code",
   "execution_count": 99,
   "metadata": {},
   "outputs": [],
   "source": [
    "def checkDecimal(field):\n",
    "    ar = field.split(\".\")\n",
    "    if len(ar)==2 and ar[0].isdigit() and ar[1].isdigit():\n",
    "        return True\n",
    "    else:\n",
    "        return False"
   ]
  },
  {
   "cell_type": "code",
   "execution_count": 91,
   "metadata": {},
   "outputs": [],
   "source": [
    "def checkRange(field,lower,upper):\n",
    "    if eval(field)>=lower and eval(field)<=upper:\n",
    "        return True\n",
    "    else:\n",
    "        return False"
   ]
  },
  {
   "cell_type": "code",
   "execution_count": 92,
   "metadata": {},
   "outputs": [],
   "source": [
    "def check_scientific_notation(field):\n",
    "    r1 = re.findall(\"[+\\-]?[^\\w]?(?:0|[1-9]\\d*)(?:\\.\\d*)?(?:[eE][+\\-]?\\d+)\", field)\n",
    "    print(r1)\n",
    "    if len(r1)==1:\n",
    "        return True\n",
    "    else:\n",
    "        return False"
   ]
  },
  {
   "cell_type": "code",
   "execution_count": 108,
   "metadata": {},
   "outputs": [],
   "source": [
    "def check_sorted(trial_list,sequence_list):\n",
    "    prev_trial_num = trial_list[0]-1\n",
    "    prev_sequence_num = sequence_list[0]-1\n",
    "    sorted_order = True\n",
    "    for trial_num,seq_num in zip(trial_list,sequence_list):\n",
    "        if trial_num<prev_trial_num:\n",
    "            sorted_order = False\n",
    "            break\n",
    "        if trial_num==prev_trial_num and seq_num<prev_sequence_num:\n",
    "            sorted_order = False\n",
    "            break\n",
    "        prev_trial_num = trial_num\n",
    "        prev_sequence_num = seq_num\n",
    "    line = str(prev_trial_num) + \",\" + str(trial_num)  \n",
    "    return sorted_order,line"
   ]
  },
  {
   "cell_type": "code",
   "execution_count": 121,
   "metadata": {},
   "outputs": [
    {
     "name": "stdout",
     "output_type": "stream",
     "text": [
      "['1e10']\n",
      "checking sort order\n"
     ]
    }
   ],
   "source": [
    "with open('yelt_incorrect.csv','r') as f:\n",
    "    invalid_commas = False\n",
    "    invalid_commas_line = \"\"\n",
    "    invalid_Event_id = False\n",
    "    invalid_Event_id_line = \"\"\n",
    "    invalid_sequence = False\n",
    "    invalid_sequence_line = \"\"\n",
    "    \n",
    "    content = f.readlines()\n",
    "    content = [x.strip() for x in content] \n",
    "    trial_id_list  = []\n",
    "    sequence_list = []\n",
    "    error_message_list = []\n",
    "    for idx,line in enumerate(content):\n",
    "        if idx ==0:\n",
    "            continue\n",
    "        fields = line.split(\",\")\n",
    "        if invalid_commas==False and line.count(\",\")>3:\n",
    "            invalid_commas = True\n",
    "            invalid_commas_line = \"at line \" + str(idx) + \" \"+ line\n",
    "        if invalid_Event_id==False and not fields[1].isdigit():\n",
    "            invalid_Event_id = True\n",
    "            invalid_Event_id_line = \"at line \" + str(idx) + line + \" invalid event id not digit \"\n",
    "            if check_scientific_notation(fields[1]):\n",
    "                invalid_Event_id_line += \" \\n scientific notation discouraged\" + fields[1] \n",
    "        if invalid_sequence==False and not checkDecimal(fields[2]) and not checkRange(fields[2],0,365):\n",
    "            invalid_sequence = True\n",
    "            invalid_sequence_line = \"at line \" + str(idx) + line + \" Sequence not decimal\"\n",
    "        trial_id_list.append(eval(fields[0]))\n",
    "        sequence_list.append(eval(fields[2]))\n",
    "    \n",
    "    print(\"checking sort order\")\n",
    "    sort,sort_line = check_sorted(trial_id_list,sequence_list)\n",
    "    error_message_list.append(invalid_commas_line)\n",
    "    error_message_list.append(invalid_Event_id_line)\n",
    "    error_message_list.append(invalid_sequence_line)\n",
    "    if sort==False:\n",
    "        error_message_list.append(\"Not sorted \"+sort_line)\n",
    "    else:\n",
    "        error_message_list.append(\"sorted\")"
   ]
  },
  {
   "cell_type": "code",
   "execution_count": 122,
   "metadata": {},
   "outputs": [
    {
     "data": {
      "text/plain": [
       "['at line 2 1,28362,17.9321752009,995.3189228941,',\n",
       " 'at line 11,1e10,5.5105621186,87966.2649936431 invalid event id not digit  \\n scientific notation discouraged1e10',\n",
       " 'at line 401,0,1096,182441.183580209 Sequence not decimal',\n",
       " 'Not sorted 1,0']"
      ]
     },
     "execution_count": 122,
     "metadata": {},
     "output_type": "execute_result"
    }
   ],
   "source": [
    "error_message_list"
   ]
  },
  {
   "cell_type": "code",
   "execution_count": null,
   "metadata": {},
   "outputs": [],
   "source": []
  },
  {
   "cell_type": "code",
   "execution_count": null,
   "metadata": {},
   "outputs": [],
   "source": []
  },
  {
   "cell_type": "code",
   "execution_count": null,
   "metadata": {},
   "outputs": [],
   "source": []
  },
  {
   "cell_type": "code",
   "execution_count": null,
   "metadata": {},
   "outputs": [],
   "source": []
  }
 ],
 "metadata": {
  "kernelspec": {
   "display_name": "p36workshop",
   "language": "python",
   "name": "p36workshop"
  },
  "language_info": {
   "codemirror_mode": {
    "name": "ipython",
    "version": 3
   },
   "file_extension": ".py",
   "mimetype": "text/x-python",
   "name": "python",
   "nbconvert_exporter": "python",
   "pygments_lexer": "ipython3",
   "version": "3.6.7"
  }
 },
 "nbformat": 4,
 "nbformat_minor": 2
}
