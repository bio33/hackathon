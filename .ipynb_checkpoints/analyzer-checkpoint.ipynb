{
 "cells": [
  {
   "cell_type": "code",
   "execution_count": 14,
   "metadata": {},
   "outputs": [],
   "source": [
    "# !pip install analyzere"
   ]
  },
  {
   "cell_type": "code",
   "execution_count": 1,
   "metadata": {},
   "outputs": [],
   "source": [
    "import analyzere as an\n",
    "import pandas as pd\n",
    "import re\n",
    "import numpy as np\n",
    "import os\n",
    "from analyzere import EventCatalog\n",
    "import time\n",
    "an.base_url = 'https://hackathon-api.analyzere.net/'\n",
    "an.username = 'possibleparrots'\n",
    "an.password = 'Zahk8ic9'"
   ]
  },
  {
   "cell_type": "code",
   "execution_count": 2,
   "metadata": {},
   "outputs": [],
   "source": [
    "def checkDecimal(field):\n",
    "    ar = field.split(\".\")\n",
    "    if len(ar)==2 and ar[0].isdigit() and ar[1].isdigit():\n",
    "        return True\n",
    "    else:\n",
    "        return False\n",
    "def checkRange(field,lower,upper):\n",
    "    if eval(field)>=lower and eval(field)<=upper:\n",
    "        return True\n",
    "    else:\n",
    "        return False\n",
    "def check_scientific_notation(field):\n",
    "    r1 = re.findall(\"[+\\-]?[^\\w]?(?:0|[1-9]\\d*)(?:\\.\\d*)?(?:[eE][+\\-]?\\d+)\", field)\n",
    "    print(r1)\n",
    "    if len(r1)==1:\n",
    "        return True\n",
    "    else:\n",
    "        return False\n",
    "def check_sorted(trial_list,sequence_list):\n",
    "    prev_trial_num = trial_list[0]-1\n",
    "    prev_sequence_num = sequence_list[0]-1\n",
    "    sorted_order = True\n",
    "    for trial_num,seq_num in zip(trial_list,sequence_list):\n",
    "        if trial_num<prev_trial_num:\n",
    "            sorted_order = False\n",
    "            break\n",
    "        if trial_num==prev_trial_num and seq_num<prev_sequence_num:\n",
    "            sorted_order = False\n",
    "            break\n",
    "        prev_trial_num = trial_num\n",
    "        prev_sequence_num = seq_num\n",
    "    line = str(prev_trial_num) + \",\" + str(trial_num)  \n",
    "    return sorted_order,line\n",
    "def yelt_validator(catalog_data):\n",
    "    with open('yelt_incorrect.csv','r') as f:\n",
    "        invalid_commas = False\n",
    "        invalid_commas_line = \"\"\n",
    "        invalid_Event_id = False\n",
    "        invalid_Event_id_line = \"\"\n",
    "        invalid_sequence = False\n",
    "        invalid_sequence_line = \"\"\n",
    "\n",
    "        content = f.readlines()\n",
    "        content = [x.strip() for x in content] \n",
    "        trial_id_list  = []\n",
    "        sequence_list = []\n",
    "        error_message_list = []\n",
    "        for idx,line in enumerate(content):\n",
    "            if idx ==0:\n",
    "                continue\n",
    "            fields = line.split(\",\")\n",
    "            if invalid_commas==False and line.count(\",\")>3:\n",
    "                invalid_commas = True\n",
    "                invalid_commas_line = \"at line \" + str(idx) + \" \"+ line\n",
    "            if invalid_Event_id==False and not fields[1].isdigit():\n",
    "                invalid_Event_id = True\n",
    "                invalid_Event_id_line = \"at line \" + str(idx) + line + \" invalid event id not digit \"\n",
    "                if check_scientific_notation(fields[1]):\n",
    "                    invalid_Event_id_line += \" \\n scientific notation discouraged\" + fields[1] \n",
    "            if invalid_sequence==False and not checkDecimal(fields[2]) and not checkRange(fields[2],0,365):\n",
    "                invalid_sequence = True\n",
    "                invalid_sequence_line = \"at line \" + str(idx) + line + \" Sequence not decimal\"\n",
    "            trial_id_list.append(eval(fields[0]))\n",
    "            sequence_list.append(eval(fields[2]))\n",
    "\n",
    "        print(\"checking sort order\")\n",
    "        sort,sort_line = check_sorted(trial_id_list,sequence_list)\n",
    "        error_message_list.append(invalid_commas_line)\n",
    "        error_message_list.append(invalid_Event_id_line)\n",
    "        error_message_list.append(invalid_sequence_line)\n",
    "        if sort==False:\n",
    "            error_message_list.append(\"Not sorted \"+sort_line)\n",
    "        else:\n",
    "            error_message_list.append(\"sorted\")\n",
    "        for i in error_message_list:\n",
    "            print(i)\n",
    "        return invalid_commas and invalid_Event_id and invalid_sequence and sort"
   ]
  },
  {
   "cell_type": "code",
   "execution_count": 3,
   "metadata": {},
   "outputs": [],
   "source": [
    "class event_catalog:\n",
    "    def __init__(self,data):\n",
    "        self.data = pd.read_csv(data,warn_bad_lines = True,error_bad_lines = False)\n",
    "    def data_type(self):\n",
    "        if self.data.dtypes[\"EventID\"] == \"int64\":\n",
    "            print(\"Event ID is int : OK\")\n",
    "            return True\n",
    "        else:\n",
    "            print(\"EventID is not int\")\n",
    "            return False\n",
    "    def unique_eventid(self):\n",
    "        if len(self.data[\"EventID\"].unique()) != len(self.data[\"EventID\"]):\n",
    "            print(\"Event ID are not unique\")\n",
    "            return False\n",
    "        else:\n",
    "            print(\"Event ID are unique : OK\")\n",
    "            return True\n",
    "    def ascending(self):\n",
    "        if self.data[\"EventID\"].diff()[1:].apply(lambda x: True if x>0 else False).all():\n",
    "            print(\"EventID are in ascending order\")\n",
    "            return True\n",
    "        else:\n",
    "            print(\"EventID are not in ascending order or may contain null values\")\n",
    "            return False\n",
    "    def apply_checks(self):\n",
    "        a = self.data_type()\n",
    "        b = self.unique_eventid()\n",
    "        c = self.ascending()\n",
    "        if a*b*c :\n",
    "            return True\n",
    "        else:\n",
    "            return False\n",
    "def event_validator(catalog_data):\n",
    "    c = event_catalog(catalog_data)\n",
    "    return c.apply_checks()\n",
    "     "
   ]
  },
  {
   "cell_type": "code",
   "execution_count": 40,
   "metadata": {},
   "outputs": [],
   "source": [
    "file_type = file_type={\n",
    "    1:event_validator,\n",
    "    2:yelt_validator\n",
    "}\n",
    "select_file = int(input(\"Select File Type(N) :\\n 1 <- Event Catalog \\n 2 <- YELT\\n\"))\n",
    "\n",
    "    "
   ]
  },
  {
   "cell_type": "code",
   "execution_count": 4,
   "metadata": {},
   "outputs": [
    {
     "name": "stdout",
     "output_type": "stream",
     "text": [
      "Select File Type(N) :\n",
      " 1 <- Event Catalog \n",
      " 2 <- YELT\n",
      "1\n"
     ]
    }
   ],
   "source": [
    "# with validation for incorrect file\n",
    "start = time.time()\n",
    "catalog = EventCatalog(description='hackathon_test1',\n",
    "                       tags=['shiftkey',],\n",
    "                       source='hackthon1').save()\n",
    "\n",
    "with open('catalog_incorrect.csv',\"rb\") as catalog_data:\n",
    "    if file_type[select_file](catalog_data):\n",
    "        x=catalog.upload_data(catalog_data)\n",
    "        print(x)\n",
    "    else:\n",
    "        print(\"Invalid file\")\n",
    "print(\"\\n Time with validation\")\n",
    "print(time.time()-start)\n",
    "print(\"*\"*30)\n",
    "# without validation\n",
    "start = time.time()\n",
    "catalog = EventCatalog(description='hackathon_test2',\n",
    "                       tags=['shiftkey',],\n",
    "                       source='hackthon2').save()\n",
    "with open('catalog_incorrect.csv',\"rb\") as catalog_data:\n",
    "\n",
    "        x=catalog.upload_data(catalog_data)\n",
    "        print(x)\n",
    "\n",
    "print(\"\\n Time without validation\")\n",
    "print(time.time()-start)"
   ]
  },
  {
   "cell_type": "code",
   "execution_count": null,
   "metadata": {},
   "outputs": [],
   "source": []
  },
  {
   "cell_type": "code",
   "execution_count": null,
   "metadata": {},
   "outputs": [],
   "source": [
    "\n"
   ]
  },
  {
   "cell_type": "code",
   "execution_count": null,
   "metadata": {},
   "outputs": [],
   "source": []
  },
  {
   "cell_type": "code",
   "execution_count": null,
   "metadata": {},
   "outputs": [],
   "source": []
  },
  {
   "cell_type": "code",
   "execution_count": 10,
   "metadata": {},
   "outputs": [
    {
     "ename": "TypeError",
     "evalue": "yelt_validator() missing 1 required positional argument: 'catalog_data'",
     "output_type": "error",
     "traceback": [
      "\u001b[0;31m---------------------------------------------------------------------------\u001b[0m",
      "\u001b[0;31mTypeError\u001b[0m                                 Traceback (most recent call last)",
      "\u001b[0;32m<ipython-input-10-9483748ff011>\u001b[0m in \u001b[0;36m<module>\u001b[0;34m()\u001b[0m\n\u001b[0;32m----> 1\u001b[0;31m \u001b[0myelt_validator\u001b[0m\u001b[0;34m(\u001b[0m\u001b[0;34m)\u001b[0m\u001b[0;34m\u001b[0m\u001b[0m\n\u001b[0m",
      "\u001b[0;31mTypeError\u001b[0m: yelt_validator() missing 1 required positional argument: 'catalog_data'"
     ]
    }
   ],
   "source": []
  },
  {
   "cell_type": "code",
   "execution_count": 32,
   "metadata": {},
   "outputs": [
    {
     "name": "stdout",
     "output_type": "stream",
     "text": [
      "Select File Type(N) :\n",
      " 1 <- Event Catalog \n",
      " 2 <- YELT\n",
      "2\n"
     ]
    }
   ],
   "source": []
  },
  {
   "cell_type": "code",
   "execution_count": 6,
   "metadata": {},
   "outputs": [
    {
     "name": "stdout",
     "output_type": "stream",
     "text": [
      "EventID is not int\n",
      "Event ID are unique : OK\n",
      "EventID are not in ascending order or may contain null values\n",
      "Invalid file\n",
      "\n",
      " Time with validation\n",
      "0.6741964817047119\n",
      "******************************\n",
      "{\n",
      "  \"bytes_uploaded\": 14012836,\n",
      "  \"commit_error\": \"Row 26251: Unable to process event: could not convert string to float: .\",\n",
      "  \"status\": \"Processing Failed\",\n",
      "  \"total_bytes\": 14012836\n",
      "}\n",
      "\n",
      " Time without validation\n",
      "3.8986668586730957\n"
     ]
    }
   ],
   "source": []
  },
  {
   "cell_type": "code",
   "execution_count": 28,
   "metadata": {},
   "outputs": [
    {
     "name": "stdout",
     "output_type": "stream",
     "text": [
      "checking sort order\n"
     ]
    },
    {
     "data": {
      "text/plain": [
       "(False,\n",
       " ['at line 18 1,31803,192.48747086965926,1408.1723888655758,',\n",
       "  '',\n",
       "  '',\n",
       "  'sorted'])"
      ]
     },
     "execution_count": 28,
     "metadata": {},
     "output_type": "execute_result"
    }
   ],
   "source": [
    "yelt_validator(\"asd\")"
   ]
  },
  {
   "cell_type": "code",
   "execution_count": null,
   "metadata": {},
   "outputs": [],
   "source": []
  }
 ],
 "metadata": {
  "kernelspec": {
   "display_name": "Python 3",
   "language": "python",
   "name": "python3"
  },
  "language_info": {
   "codemirror_mode": {
    "name": "ipython",
    "version": 3
   },
   "file_extension": ".py",
   "mimetype": "text/x-python",
   "name": "python",
   "nbconvert_exporter": "python",
   "pygments_lexer": "ipython3",
   "version": "3.6.4"
  }
 },
 "nbformat": 4,
 "nbformat_minor": 2
}
